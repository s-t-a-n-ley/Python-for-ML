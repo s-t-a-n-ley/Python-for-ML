{
  "nbformat": 4,
  "nbformat_minor": 0,
  "metadata": {
    "colab": {
      "provenance": [],
      "authorship_tag": "ABX9TyMmnB09LWlBoTt9Jp9Qd8hE",
      "include_colab_link": true
    },
    "kernelspec": {
      "name": "python3",
      "display_name": "Python 3"
    },
    "language_info": {
      "name": "python"
    }
  },
  "cells": [
    {
      "cell_type": "markdown",
      "metadata": {
        "id": "view-in-github",
        "colab_type": "text"
      },
      "source": [
        "<a href=\"https://colab.research.google.com/github/s-t-a-n-ley/Python-for-ML/blob/main/Python_Programs_Example.ipynb\" target=\"_parent\"><img src=\"https://colab.research.google.com/assets/colab-badge.svg\" alt=\"Open In Colab\"/></a>"
      ]
    },
    {
      "cell_type": "markdown",
      "source": [
        "###**Programs**"
      ],
      "metadata": {
        "id": "13O58ir3AaqO"
      }
    },
    {
      "cell_type": "markdown",
      "source": [
        ">**1. Program to find largest of three numbers**\n",
        "\n",
        "**Steps:**\n",
        "\n",
        "1. Accept 3 inputs from user\n",
        "2. Find the largest among 3 numbers by comparing each number with another\n",
        "3. Print the largest number"
      ],
      "metadata": {
        "id": "w_ywIcsPA03u"
      }
    },
    {
      "cell_type": "code",
      "source": [
        "num1 = float(input(\"Enter first number: \"))\n",
        "num2 = float(input(\"Enter second number: \"))\n",
        "num3 = float(input(\"Enter third number: \"))\n",
        "if (num1 >= num2) and (num1 >= num3):\n",
        "   largest = num1\n",
        "elif (num2 >= num1) and (num2 >= num3):\n",
        "   largest = num2\n",
        "else:\n",
        "   largest = num3\n",
        "print(\"The largest number is\", largest)"
      ],
      "metadata": {
        "colab": {
          "base_uri": "https://localhost:8080/"
        },
        "id": "UYqUwktbBhVW",
        "outputId": "13977a49-f176-4b98-b22f-89d21e4e2c7c"
      },
      "execution_count": null,
      "outputs": [
        {
          "output_type": "stream",
          "name": "stdout",
          "text": [
            "Enter first number: 10\n",
            "Enter second number: 20\n",
            "Enter third number: 5\n",
            "The largest number is 20.0\n"
          ]
        }
      ]
    },
    {
      "cell_type": "markdown",
      "source": [
        ">**2. Printing multiplication table**\n",
        "\n",
        "**Steps:**\n",
        "\n",
        "  1. Take the input from user\n",
        "  2. Multiply the number with 1 to 10 with help of for loop\n",
        "  3. Print the result"
      ],
      "metadata": {
        "id": "YA9NGKhNCPOu"
      }
    },
    {
      "cell_type": "code",
      "source": [
        "num = int(input(\"Display multiplication table of: \"))\n",
        "for i in range(1, 11):\n",
        "   print(num, 'x', i, '=', num*i)"
      ],
      "metadata": {
        "colab": {
          "base_uri": "https://localhost:8080/"
        },
        "id": "9z2kNPFvC7zN",
        "outputId": "057016cb-7527-47d4-8883-9f7fb5b68196"
      },
      "execution_count": null,
      "outputs": [
        {
          "output_type": "stream",
          "name": "stdout",
          "text": [
            "Display multiplication table of: 7\n",
            "7 x 1 = 7\n",
            "7 x 2 = 14\n",
            "7 x 3 = 21\n",
            "7 x 4 = 28\n",
            "7 x 5 = 35\n",
            "7 x 6 = 42\n",
            "7 x 7 = 49\n",
            "7 x 8 = 56\n",
            "7 x 9 = 63\n",
            "7 x 10 = 70\n"
          ]
        }
      ]
    },
    {
      "cell_type": "markdown",
      "source": [
        ">**3. To check the sign of a number**\n",
        "\n",
        "**Steps:**\n",
        "\n",
        "1. Get the input from the user\n",
        "2. if number>0, its positive or if number<0, its negative or number is 0\n",
        "3. Display the result "
      ],
      "metadata": {
        "id": "epeRPjtGDhD9"
      }
    },
    {
      "cell_type": "code",
      "source": [
        "num = float(input(\"Enter a number: \"))\n",
        "if num > 0:\n",
        "   print(\"Positive number\")\n",
        "elif num < 0:\n",
        "   print(\"Neagtive Number\")\n",
        "else:\n",
        "   print(\"Zero\")"
      ],
      "metadata": {
        "colab": {
          "base_uri": "https://localhost:8080/"
        },
        "id": "LXmkfx8jEQc-",
        "outputId": "130eb830-1c1a-4b0f-fe76-5db395395e2a"
      },
      "execution_count": null,
      "outputs": [
        {
          "output_type": "stream",
          "name": "stdout",
          "text": [
            "Enter a number: 0.5889\n",
            "Positive number\n"
          ]
        }
      ]
    },
    {
      "cell_type": "markdown",
      "source": [
        ">**4. Find surface area and volume of a cylinder**\n",
        "\n",
        "**Steps:**\n",
        "\n",
        "1. Get the radius and height from the user\n",
        "2. Calculate Surface area as $SA=2πr(r+h)$ and Volume as $V=πr2h$\n",
        "3. Display the result"
      ],
      "metadata": {
        "id": "WIa_XOWnEs_9"
      }
    },
    {
      "cell_type": "code",
      "source": [
        "pi=3.14\n",
        "r=float(input(\"Enter the radius: \"))\n",
        "h=float(input(\"Enter the height: \"))\n",
        "SA=2*pi*r*(r+h)\n",
        "V=pi*r**2*h\n",
        "print((\"Surface Area is {} and Volume is {}\").format(SA,V))"
      ],
      "metadata": {
        "colab": {
          "base_uri": "https://localhost:8080/"
        },
        "id": "dpaKLsTIFTE9",
        "outputId": "11be1d19-7f8a-4d84-defa-19cc223f5a2b"
      },
      "execution_count": null,
      "outputs": [
        {
          "output_type": "stream",
          "name": "stdout",
          "text": [
            "Enter the radius: 2.6\n",
            "Enter the height: 1.6\n",
            "Surface Area is 68.57760000000002 and Volume is 33.96224\n"
          ]
        }
      ]
    },
    {
      "cell_type": "markdown",
      "source": [
        ">**5. Area of a circle**\n",
        "\n",
        "**Steps:**\n",
        "\n",
        "1. Get the radius from the user\n",
        "2. Calculate the area as area=pi*r**2\n",
        "3. Display the result\n"
      ],
      "metadata": {
        "id": "OY1BZnDXGrhl"
      }
    },
    {
      "cell_type": "code",
      "source": [
        "r=float(input(\"Enter the radius: \"))\n",
        "print(\"Area: \",pi*r**2)"
      ],
      "metadata": {
        "colab": {
          "base_uri": "https://localhost:8080/"
        },
        "id": "PPhcRGvaHKqo",
        "outputId": "9ea99285-982f-4675-b36a-46defbdc249c"
      },
      "execution_count": null,
      "outputs": [
        {
          "output_type": "stream",
          "name": "stdout",
          "text": [
            "Enter the radius: 5.2\n",
            "Area:  84.9056\n"
          ]
        }
      ]
    },
    {
      "cell_type": "markdown",
      "source": [
        ">**6. Area of a rectangle with lenght  *l*  and breadth  *b***\n",
        "\n",
        "**Steps:**\n",
        "\n",
        "1. Get the length and breadth from the user\n",
        "2. Calculte the area as area=l*b\n",
        "3. Display the result"
      ],
      "metadata": {
        "id": "m8HjbsHBHaS1"
      }
    },
    {
      "cell_type": "code",
      "source": [
        "l=float(input(\"Enter the length:\"))\n",
        "b=float(input(\"Enter the breadth:\"))\n",
        "Area=l*b\n",
        "print(\"Area of the Rectangle is : \",Area)"
      ],
      "metadata": {
        "colab": {
          "base_uri": "https://localhost:8080/"
        },
        "id": "OMjmIj2YH4Et",
        "outputId": "1a360cf3-b96e-4b1a-baac-c12ffa10be04"
      },
      "execution_count": null,
      "outputs": [
        {
          "output_type": "stream",
          "name": "stdout",
          "text": [
            "Enter the length:2.5\n",
            "Enter the breadth:2.5\n",
            "Area of the Rectangle is :  6.25\n"
          ]
        }
      ]
    },
    {
      "cell_type": "markdown",
      "source": [
        ">**7. Replacing a word with another word in a sentence**\n",
        "\n",
        "**Steps:**\n",
        "\n",
        "1. Enter the text\n",
        "2. Enter the word to be replaced\n",
        "3. Replace the word by using `replace()` function"
      ],
      "metadata": {
        "id": "N2d6rzaXIdUU"
      }
    },
    {
      "cell_type": "code",
      "source": [
        "\n",
        "text =(input(\"Enter the sentence: \"))\n",
        "word=(input(\"Enter the word to be replaced:\"))\n",
        "replaced_word=(input(\"Enter the new word which is to be replaced: \"))\n",
        "replaced_text = text.replace(word, replaced_word)\n",
        "print(replaced_text)"
      ],
      "metadata": {
        "colab": {
          "base_uri": "https://localhost:8080/"
        },
        "id": "doASslVkJs9U",
        "outputId": "b9345057-cf87-4e12-898f-ada6498f5a7d"
      },
      "execution_count": null,
      "outputs": [
        {
          "output_type": "stream",
          "name": "stdout",
          "text": [
            "Enter the sentence: Rubaen is a good boy\n",
            "Enter the word to be replaced:good\n",
            "Enter the new word which is to be replaced: bad\n",
            "Rubaen is a bad boy\n"
          ]
        }
      ]
    },
    {
      "cell_type": "markdown",
      "source": [
        ">**8. Program to remove a word from a sentence**\n",
        "\n",
        "**Steps:**\n",
        "\n",
        "1. Enter the text\n",
        "2. Enter the word to be removed\n",
        "3. Replace the word by using `remove()` function"
      ],
      "metadata": {
        "id": "0_Wf31NbLzTc"
      }
    },
    {
      "cell_type": "code",
      "source": [
        "text = input(\"Enter the String: \")\n",
        "word = input(\"Enter a Word to Delete: \")\n",
        "\n",
        "text = text.replace(word, \"\")\n",
        "print(\"The updated sentence is:\\n\")\n",
        "print(text)"
      ],
      "metadata": {
        "colab": {
          "base_uri": "https://localhost:8080/"
        },
        "id": "5EVWHlH3N3Hk",
        "outputId": "394d8899-9e58-4b94-8313-aad262f333c3"
      },
      "execution_count": null,
      "outputs": [
        {
          "output_type": "stream",
          "name": "stdout",
          "text": [
            "Enter the String: he is my friend\n",
            "Enter a Word to Delete: my\n",
            "The updated sentence is:\n",
            "\n",
            "he is  friend\n"
          ]
        }
      ]
    }
  ]
}