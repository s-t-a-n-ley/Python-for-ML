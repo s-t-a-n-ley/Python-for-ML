{
  "nbformat": 4,
  "nbformat_minor": 0,
  "metadata": {
    "colab": {
      "provenance": [],
      "authorship_tag": "ABX9TyMoLzECL65If9kyitS+6+tJ",
      "include_colab_link": true
    },
    "kernelspec": {
      "name": "python3",
      "display_name": "Python 3"
    },
    "language_info": {
      "name": "python"
    }
  },
  "cells": [
    {
      "cell_type": "markdown",
      "metadata": {
        "id": "view-in-github",
        "colab_type": "text"
      },
      "source": [
        "<a href=\"https://colab.research.google.com/github/s-t-a-n-ley/Python-for-ML/blob/main/basic_python.ipynb\" target=\"_parent\"><img src=\"https://colab.research.google.com/assets/colab-badge.svg\" alt=\"Open In Colab\"/></a>"
      ]
    },
    {
      "cell_type": "markdown",
      "source": [
        "# Introduction to `python`\n",
        "\n",
        "First Program : Hello World\n"
      ],
      "metadata": {
        "id": "mhdIbh3zwC0e"
      }
    },
    {
      "cell_type": "code",
      "source": [
        "print('Hello World')"
      ],
      "metadata": {
        "colab": {
          "base_uri": "https://localhost:8080/"
        },
        "id": "DxDepsE3xMGo",
        "outputId": "bc01e0f8-8a64-43e4-e154-9b994e268ea2"
      },
      "execution_count": 3,
      "outputs": [
        {
          "output_type": "stream",
          "name": "stdout",
          "text": [
            "Hello World\n"
          ]
        }
      ]
    },
    {
      "cell_type": "markdown",
      "source": [
        ">Program to assign an integer and display it\n",
        "\n",
        "\n"
      ],
      "metadata": {
        "id": "ox0A8E-7xzaL"
      }
    },
    {
      "cell_type": "code",
      "source": [
        "a=10\n",
        "print('The value of variable is',a)"
      ],
      "metadata": {
        "colab": {
          "base_uri": "https://localhost:8080/"
        },
        "id": "XN-9AovkxW9V",
        "outputId": "99d4aeb2-dd17-4ee5-947c-a4cc94a5dbef"
      },
      "execution_count": 6,
      "outputs": [
        {
          "output_type": "stream",
          "name": "stdout",
          "text": [
            "The value of variable is 10\n"
          ]
        }
      ]
    },
    {
      "cell_type": "markdown",
      "source": [
        "> Program to find the sum of two numbers"
      ],
      "metadata": {
        "id": "AIvx7adJyeN9"
      }
    },
    {
      "cell_type": "code",
      "source": [
        "a=float(input(\"Enter the value of a:\"))\n",
        "b=int(input(\"Enter the value of b:\"))\n",
        "print(\"The sum of two variables are\", a+b)"
      ],
      "metadata": {
        "colab": {
          "base_uri": "https://localhost:8080/"
        },
        "id": "3ZtEPHzPyD_C",
        "outputId": "012ef8ae-c539-4833-9011-8835cf1a4c13"
      },
      "execution_count": 13,
      "outputs": [
        {
          "output_type": "stream",
          "name": "stdout",
          "text": [
            "Enter the value of a:9.5\n",
            "Enter the value of b:10\n",
            "The sum of two variables are 19.5\n"
          ]
        }
      ]
    }
  ]
}